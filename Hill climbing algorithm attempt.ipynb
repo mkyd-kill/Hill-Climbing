{
 "cells": [
  {
   "cell_type": "markdown",
   "id": "022adeb5",
   "metadata": {},
   "source": [
    "### 1. Hill Climbing"
   ]
  },
  {
   "cell_type": "markdown",
   "id": "3999197f",
   "metadata": {},
   "source": [
    "##### Step-size=0.5"
   ]
  },
  {
   "cell_type": "code",
   "execution_count": null,
   "id": "de7efa24",
   "metadata": {},
   "outputs": [
    {
     "ename": "",
     "evalue": "",
     "output_type": "error",
     "traceback": [
      "\u001b[1;31mRunning cells with 'Python 3.10.1 64-bit' requires ipykernel package.\n",
      "Run the following command to install 'ipykernel' into the Python environment. \n",
      "Command: 'C:/Users/KALAX/AppData/Local/Programs/Python/Python310/python.exe -m pip install ipykernel -U --user --force-reinstall'"
     ]
    }
   ],
   "source": [
    "#bounds\n",
    "import numpy as np\n",
    "from numpy import asarray\n",
    "values=np.arange(-5,6)\n",
    "def objective(x):\n",
    "    return 2-(x**2)\n",
    "#objective function\n",
    "#step_size\n",
    "stp=0.5\n",
    "#number of interations\n",
    "n=100"
   ]
  },
  {
   "cell_type": "code",
   "execution_count": null,
   "id": "2e725b2d",
   "metadata": {},
   "outputs": [],
   "source": [
    "import numpy as np\n",
    "import random\n",
    "random.seed(10)\n",
    "def hill_climbing(objective,n_interations,step_size):\n",
    "    solution=np.random.randint(-5,6)\n",
    "    solution_eval=objective(solution)\n",
    "    scores=solution_eval\n",
    "    for i in range(n_interations):\n",
    "        cand=solution+np.random.randint(-5,6)*step_size\n",
    "        cand_eval=objective(cand)\n",
    "        if cand_eval>=solution_eval:\n",
    "            solution,solution_eval=cand,cand_eval\n",
    "            scores=solution_eval\n",
    "        return [solution,scores]\n",
    "    \n",
    "hill_climbing(objective,n,stp)"
   ]
  },
  {
   "cell_type": "markdown",
   "id": "bbf4f027",
   "metadata": {},
   "source": [
    "##### Step-size= 0.1 "
   ]
  },
  {
   "cell_type": "code",
   "execution_count": null,
   "id": "8e4d7536",
   "metadata": {},
   "outputs": [],
   "source": [
    "import numpy as np\n",
    "import random\n",
    "random.seed(10)\n",
    "def hill_climbing(objective,n_interations,step_size):\n",
    "    solution=np.random.randint(-5,6)\n",
    "    solution_eval=objective(solution)\n",
    "    scores=solution_eval\n",
    "    for i in range(n_interations):\n",
    "        cand=solution+np.random.randint(-5,6)*step_size\n",
    "        cand_eval=objective(cand)\n",
    "        if cand_eval>=solution_eval:\n",
    "            solution,solution_eval=cand,cand_eval\n",
    "            scores=solution_eval\n",
    "        return [solution,scores]\n",
    "    \n",
    "\n",
    "stp=0.01  \n",
    "hill_climbing(objective,n,stp)\n",
    "\n"
   ]
  },
  {
   "cell_type": "markdown",
   "id": "bd4bc6d1",
   "metadata": {},
   "source": [
    " We get better higher values when the step size is smaller"
   ]
  },
  {
   "cell_type": "markdown",
   "id": "232f9789",
   "metadata": {},
   "source": [
    "# 2. Random-restart Hill Climbing"
   ]
  },
  {
   "cell_type": "code",
   "execution_count": null,
   "id": "9da71dae",
   "metadata": {},
   "outputs": [],
   "source": [
    "#objective function\n",
    "def obj(x):\n",
    "    return (0.0051*x**5)-(0.1367*x**4)+(1.24*x**3)-(4.456*x**2)+(5.66*x)-0.287\n",
    "#step function\n",
    "stp=0.5"
   ]
  },
  {
   "cell_type": "code",
   "execution_count": null,
   "id": "da05ba50",
   "metadata": {},
   "outputs": [],
   "source": [
    "import numpy as np\n",
    "import random\n",
    "random.seed(10)\n",
    "def random_restart(objective,n_interations,step_size):\n",
    "    solution=np.random.randint(0,11)\n",
    "    solution_eval=objective(solution)\n",
    "    scores=solution_eval\n",
    "    for i in range(n_interations):\n",
    "        cand=np.random.randint(-5,6)*step_size\n",
    "        cand_eval=objective(cand)\n",
    "        if cand_eval>=solution_eval:\n",
    "            solution,solution_eval=cand,cand_eval\n",
    "            scores=solution_eval\n",
    "        return [solution,scores]\n",
    "    \n",
    "\n",
    "random_restart(obj,n,stp)\n"
   ]
  },
  {
   "cell_type": "code",
   "execution_count": null,
   "id": "4777ca1d",
   "metadata": {},
   "outputs": [],
   "source": [
    "hill_climbing(obj,n,stp)"
   ]
  },
  {
   "cell_type": "markdown",
   "id": "3d4ef5b9",
   "metadata": {},
   "source": [
    "The random restart algorithm gives higher values compared to the hill climbing algorithm."
   ]
  }
 ],
 "metadata": {
  "kernelspec": {
   "display_name": "Python 3",
   "language": "python",
   "name": "python3"
  },
  "language_info": {
   "codemirror_mode": {
    "name": "ipython",
    "version": 3
   },
   "file_extension": ".py",
   "mimetype": "text/x-python",
   "name": "python",
   "nbconvert_exporter": "python",
   "pygments_lexer": "ipython3",
   "version": "3.10.1"
  }
 },
 "nbformat": 4,
 "nbformat_minor": 5
}
