{
 "cells": [
  {
   "cell_type": "markdown",
   "metadata": {},
   "source": [
    "## Hill Climbing\n",
    " Step size = 0.5"
   ]
  },
  {
   "cell_type": "code",
   "execution_count": 1,
   "metadata": {},
   "outputs": [],
   "source": [
    "from numpy.random import randint\n",
    "from random import seed\n",
    "from math import pow"
   ]
  },
  {
   "cell_type": "code",
   "execution_count": 12,
   "metadata": {},
   "outputs": [],
   "source": [
    "def objective(x):\n",
    "    return 2 - pow(x, 2)\n",
    "\n",
    "n_iter = 100\n",
    "\n",
    "seed(10)"
   ]
  },
  {
   "cell_type": "code",
   "execution_count": null,
   "metadata": {},
   "outputs": [],
   "source": [
    "def hillclimbing(objective, n_iter, step_size):\n",
    "    solution = randint(-5, 6)\n",
    "    solution_eval = objective(solution)\n",
    "\n",
    "    for i in range(n_iter):\n",
    "        candidate = solution + randint(-5, 6) * step_size\n",
    "        candidate_eval = objective(candidate)\n",
    "\n",
    "        if candidate_eval >= solution_eval:\n",
    "            solution, solution_eval = candidate, candidate_eval\n",
    "            print('>%d f(%s) = %.5f' % (i, solution, solution_eval))\n",
    "\n",
    "    return [solution, solution_eval]\n",
    "\n",
    "step_size = 0.5\n",
    "\n",
    "best, best_score = hillclimbing(objective, n_iter, step_size)\n",
    "\n",
    "print('\\nOptimization Objective Reached!')\n",
    "print(f\"Final State Coordinates {best} = {best_score}\")"
   ]
  },
  {
   "cell_type": "markdown",
   "metadata": {},
   "source": [
    "Step size = 0.1"
   ]
  },
  {
   "cell_type": "code",
   "execution_count": null,
   "metadata": {},
   "outputs": [],
   "source": [
    "step_size = 0.1\n",
    "\n",
    "best, best_score = hillclimbing(objective, n_iter, step_size)\n",
    "\n",
    "print('\\nOptimization Objective Reached!')\n",
    "print(f\"Final State Coordinates {best} = {best_score}\")"
   ]
  },
  {
   "cell_type": "markdown",
   "metadata": {},
   "source": [
    "## Random Restart Hill Climbing"
   ]
  },
  {
   "cell_type": "code",
   "execution_count": 15,
   "metadata": {},
   "outputs": [],
   "source": [
    "from numpy.random import randint\n",
    "from random import seed\n",
    "from math import pow\n",
    "\n",
    "seed(10)"
   ]
  },
  {
   "cell_type": "code",
   "execution_count": 16,
   "metadata": {},
   "outputs": [],
   "source": [
    "def objective(x):\n",
    "    return (0.0051 * pow(x, 5)) - (0.1367 * pow(x, 4)) + (1.24 * pow(x, 3)) - (4.456 * pow(x, 2)) + (5.66 * x) - 0.287\n",
    "\n",
    "step_size = 0.5\n",
    "\n",
    "n_iter = 20"
   ]
  },
  {
   "cell_type": "code",
   "execution_count": null,
   "metadata": {},
   "outputs": [],
   "source": [
    "def random_restart(objective, n_iter, step_size):\n",
    "    solution = randint(0, 11)\n",
    "    solution_eval = objective(solution)\n",
    "\n",
    "    for i in range(n_iter):\n",
    "        candidate = randint(0, 11) * step_size\n",
    "        candidate_eval = objective(candidate)\n",
    "        \n",
    "        if candidate_eval >= solution_eval:\n",
    "            solution, solution_eval = candidate, candidate_eval\n",
    "            print('>%d f(%s) = %.5f' % (i, solution, solution_eval))\n",
    "\n",
    "    return [solution, solution_eval]\n",
    "\n",
    "best, best_score = random_restart(objective, n_iter, step_size)\n",
    "\n",
    "print('\\nOptimization Objective Reached!')\n",
    "print(f\"Final State Coordinates {best} = {best_score}\")"
   ]
  },
  {
   "cell_type": "markdown",
   "metadata": {},
   "source": [
    "#### Hill Climbing vs Random Restart"
   ]
  },
  {
   "cell_type": "markdown",
   "metadata": {},
   "source": [
    "Because the random restart conducts a series of hill-climbing searches on randomly selected inputs, hence, having higher points compared to the hill climbing algorithm"
   ]
  }
 ],
 "metadata": {
  "interpreter": {
   "hash": "bc2f393dd332a1d8537cf70f0f847427ee4c2810dcc975cee38541f6c27a0f50"
  },
  "kernelspec": {
   "display_name": "Python 3.10.1 64-bit",
   "language": "python",
   "name": "python3"
  },
  "language_info": {
   "codemirror_mode": {
    "name": "ipython",
    "version": 3
   },
   "file_extension": ".py",
   "mimetype": "text/x-python",
   "name": "python",
   "nbconvert_exporter": "python",
   "pygments_lexer": "ipython3",
   "version": "3.10.1"
  },
  "orig_nbformat": 4
 },
 "nbformat": 4,
 "nbformat_minor": 2
}
